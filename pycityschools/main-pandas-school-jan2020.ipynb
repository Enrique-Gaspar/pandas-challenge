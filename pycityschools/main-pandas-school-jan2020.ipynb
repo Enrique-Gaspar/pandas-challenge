{
 "cells": [
  {
   "cell_type": "code",
   "execution_count": null,
   "metadata": {},
   "outputs": [],
   "source": [
    "# Dependencies and Setup\n",
    "import os\n",
    "import csv\n",
    "import math\n",
    "import statistics\n",
    "import pandas as pd\n",
    "import numpy as np"
   ]
  },
  {
   "cell_type": "code",
   "execution_count": null,
   "metadata": {},
   "outputs": [],
   "source": [
    "# File to Load\n",
    "school_data_row = \"Resources/schools_complete.csv\"\n",
    "student_data_row = \"Resources/students_complete.csv\"\n",
    "print(f\"Both files were found\")"
   ]
  },
  {
   "cell_type": "code",
   "execution_count": null,
   "metadata": {},
   "outputs": [],
   "source": [
    "# Read School and Student Data File and store into Pandas Data Frames\n",
    "school_df = pd.read_csv(school_data_row)\n",
    "\n",
    "# Read School and Student Data File and store into Pandas Data Frames\n",
    "student_df = pd.read_csv(student_data_row)\n",
    "\n",
    "# Combine the data into a single dataset\n",
    "school_data_complete = pd.merge(student_df, school_df, how=\"left\", on=[\"school_name\", \"school_name\"])\n",
    "\n",
    "# See as a DataFrame and check it out\n",
    "data_df = pd.DataFrame(school_data_complete)\n",
    "data_df.head()"
   ]
  },
  {
   "cell_type": "code",
   "execution_count": null,
   "metadata": {},
   "outputs": [],
   "source": [
    "# Looking for the ones that pass math\n",
    "pass_math_df = data_df[data_df[\"math_score\"]>=70]\n",
    "pass_math_df.head()"
   ]
  },
  {
   "cell_type": "code",
   "execution_count": null,
   "metadata": {},
   "outputs": [],
   "source": [
    "pass_math_df[\"Student ID\"].nunique()"
   ]
  },
  {
   "cell_type": "code",
   "execution_count": null,
   "metadata": {},
   "outputs": [],
   "source": [
    "percentage_pass_math = (pass_math_df[\"Student ID\"].nunique() / data_df[\"Student ID\"].nunique())*100\n",
    "percentage_pass_math"
   ]
  },
  {
   "cell_type": "code",
   "execution_count": null,
   "metadata": {},
   "outputs": [],
   "source": [
    "# Looking for the ones that pass reading\n",
    "pass_reading_df = data_df[data_df[\"reading_score\"]>=70]\n",
    "pass_reading_df.head()"
   ]
  },
  {
   "cell_type": "code",
   "execution_count": null,
   "metadata": {},
   "outputs": [],
   "source": [
    "pass_reading_df[\"Student ID\"].nunique()"
   ]
  },
  {
   "cell_type": "code",
   "execution_count": null,
   "metadata": {},
   "outputs": [],
   "source": [
    "percentage_pass_reading = (pass_reading_df[\"Student ID\"].nunique() / data_df[\"Student ID\"].nunique())*100\n",
    "percentage_pass_reading"
   ]
  },
  {
   "cell_type": "code",
   "execution_count": null,
   "metadata": {},
   "outputs": [],
   "source": [
    "percentage_overall_passing = (percentage_pass_math + percentage_pass_reading)/2\n",
    "percentage_overall_passing"
   ]
  },
  {
   "cell_type": "code",
   "execution_count": null,
   "metadata": {},
   "outputs": [],
   "source": [
    "school_df[\"budget\"].sum()"
   ]
  },
  {
   "cell_type": "code",
   "execution_count": null,
   "metadata": {},
   "outputs": [],
   "source": [
    "# Creating a summary DataFrame using the values found\n",
    "district_summary_df = pd.DataFrame({\n",
    "    \"Total Schools\":[data_df[\"school_name\"].nunique()],\n",
    "    \"Total Students\" : [data_df[\"Student ID\"].nunique()],\n",
    "    \"Total Budget\" : [school_df[\"budget\"].sum()],\n",
    "    \"Average Math Score\" : [data_df[\"math_score\"].mean()],\n",
    "    \"Average Reading Score\" : [data_df[\"reading_score\"].mean()],\n",
    "    \"% Passing Math\":[percentage_pass_math],\n",
    "    \"% Passing Reading\": [percentage_pass_reading],\n",
    "    \"% Overall Passing Rate\":[percentage_overall_passing]\n",
    "})\n",
    "\n",
    "district_summary_df"
   ]
  },
  {
   "cell_type": "code",
   "execution_count": null,
   "metadata": {},
   "outputs": [],
   "source": [
    "# Set new index to school name\n",
    "school_df = data_df.set_index(\"school_name\")\n",
    "school_df.head()"
   ]
  },
  {
   "cell_type": "code",
   "execution_count": null,
   "metadata": {},
   "outputs": [],
   "source": [
    "# School Summary\n",
    "# Create an overview table that summarizes key metrics about each school, including:\n",
    "# School Name\n",
    "# School Type\n",
    "# Total Students\n",
    "# Total School Budget\n",
    "# Per Student Budget\n",
    "# Average Math Score\n",
    "# Average Reading Score\n",
    "# % Passing Math\n",
    "# % Passing Reading\n",
    "# Overall Passing Rate (Average of the above two)"
   ]
  }
 ],
 "metadata": {
  "kernelspec": {
   "display_name": "Python [conda env:PythonData] *",
   "language": "python",
   "name": "conda-env-PythonData-py"
  },
  "language_info": {
   "codemirror_mode": {
    "name": "ipython",
    "version": 3
   },
   "file_extension": ".py",
   "mimetype": "text/x-python",
   "name": "python",
   "nbconvert_exporter": "python",
   "pygments_lexer": "ipython3",
   "version": "3.6.9"
  }
 },
 "nbformat": 4,
 "nbformat_minor": 2
}
